{
 "cells": [
  {
   "cell_type": "markdown",
   "id": "1e47d394",
   "metadata": {},
   "source": [
    "# Export data from GEE to GoogleDrive"
   ]
  },
  {
   "cell_type": "code",
   "execution_count": null,
   "id": "26bdef72",
   "metadata": {},
   "outputs": [
    {
     "name": "stdout",
     "output_type": "stream",
     "text": [
      "GEE Initialized for FULL DATASET EXPORT.\n",
      "ROI area: 15075.31 km²\n",
      "Warning: Large ROI may exceed maxPixels or take significant time.\n",
      "Preparing Sentinel-2 cloud-free composite...\n",
      "Preparing Dynamic World label image...\n",
      "Data preparation complete. Image stack created.\n"
     ]
    }
   ],
   "source": [
    "import ee\n",
    "\n",
    "# =============================================================================\n",
    "# --- 1. Initialization and Configuration ---\n",
    "# =============================================================================\n",
    "try:\n",
    "    ee.Initialize(project=\"deforestationsentinel2\")\n",
    "except Exception:\n",
    "    ee.Authenticate()\n",
    "    ee.Initialize(project=\"deforestationsentinel2\")\n",
    "\n",
    "print(\"GEE Initialized for FULL DATASET EXPORT.\")\n",
    "\n",
    "# --- Production Parameters ---\n",
    "# The full Area of Interest for your project.\n",
    "roi = ee.Geometry.BBox(-74.88851, 1.722, -73.656, 2.712)\n",
    "roi_area = roi.area(maxError=1).divide(1e6).getInfo()  # Area in km²\n",
    "print(f\"ROI area: {roi_area:.2f} km²\")\n",
    "if roi_area > 10000:\n",
    "    print(\"Warning: Large ROI may exceed maxPixels or take significant time.\")\n",
    "\n",
    "# Using a full year provides the best data for the median composite.\n",
    "start_date = '2022-01-01'\n",
    "end_date = '2022-12-31'\n",
    "\n",
    "# Feature bands and export settings\n",
    "S2_BANDS = ['B2', 'B3', 'B4', 'B5', 'B6', 'B7', 'B8', 'B11', 'B12']\n",
    "LABEL_BAND = 'label'\n",
    "DRIVE_FOLDER = 'GEE_Colombia_Production_Export'\n",
    "FILE_PREFIX = 'colombia_production_data'\n",
    "TASK_DESCRIPTION = 'ProductionExport_Colombia_to_Drive'\n",
    "PATCH_SIZE = 256\n",
    "EXPORT_SCALE = 10\n",
    "\n",
    "# =============================================================================\n",
    "# --- 2. Data Preparation with Robust Cloud Masking ---\n",
    "# =============================================================================\n",
    "\n",
    "def mask_s2_clouds(image):\n",
    "    \"\"\"Masks clouds and shadows in a Sentinel-2 SR image using the SCL band.\"\"\"\n",
    "    scl = image.select('SCL')\n",
    "    # Keep high-quality land and water pixels.\n",
    "    good_quality = scl.eq(4).Or(scl.eq(5)).Or(scl.eq(6)).Or(scl.eq(7)).Or(scl.eq(11))\n",
    "    return image.updateMask(good_quality)\n",
    "\n",
    "print(\"Preparing Sentinel-2 cloud-free composite...\")\n",
    "# Load S2 collection, efficiently filter by metadata first, then map the cloud mask.\n",
    "s2_collection = (ee.ImageCollection('COPERNICUS/S2_SR_HARMONIZED')\n",
    "                 .filterBounds(roi)\n",
    "                 .filterDate(start_date, end_date)\n",
    "                 .filter(ee.Filter.lt('CLOUDY_PIXEL_PERCENTAGE', 20))) # A lenient filter to get more data\n",
    "s2_masked = s2_collection.map(mask_s2_clouds)\n",
    "\n",
    "# Create the median composite from the cleaned collection.\n",
    "s2_composite = s2_masked.select(S2_BANDS).median()\n",
    "# Normalize the final feature image.\n",
    "feature_image = s2_composite.divide(3000).toFloat()\n",
    "\n",
    "print(\"Preparing Dynamic World label image...\")\n",
    "# Create the label image using the mode reducer.\n",
    "dw_collection = (ee.ImageCollection('GOOGLE/DYNAMICWORLD/V1')\n",
    "                 .filterBounds(roi)\n",
    "                 .filterDate(start_date, end_date))\n",
    "dw_image = dw_collection.select(LABEL_BAND).mode()\n",
    "label_image = dw_image.toByte()\n",
    "\n",
    "# Stack the feature and label images for export.\n",
    "stacked_image = feature_image.addBands(label_image)\n",
    "print(\"Data preparation complete. Image stack created.\")"
   ]
  },
  {
   "cell_type": "code",
   "execution_count": 2,
   "id": "218b9616",
   "metadata": {},
   "outputs": [
    {
     "name": "stdout",
     "output_type": "stream",
     "text": [
      "\n",
      "Submitting the export task...\n",
      "\n",
      "============================================================\n",
      "SUCCESS: Full dataset export task has been started.\n",
      "--> Go to the 'Tasks' tab in the GEE Code Editor to monitor progress.\n",
      "--> This is a large task and may take several hours to complete.\n",
      "--> When finished, files will appear in Google Drive under the 'GEE_Colombia_Production_Export' folder.\n",
      "============================================================\n"
     ]
    }
   ],
   "source": [
    "# =============================================================================\n",
    "# --- 3. Export to Google Drive ---\n",
    "# =============================================================================\n",
    "\n",
    "print(\"\\nSubmitting the export task...\")\n",
    "task = ee.batch.Export.image.toDrive(\n",
    "    image=stacked_image,\n",
    "    description=TASK_DESCRIPTION,\n",
    "    folder=DRIVE_FOLDER,\n",
    "    fileNamePrefix=FILE_PREFIX,\n",
    "    region=roi,\n",
    "    scale=EXPORT_SCALE,\n",
    "    fileFormat='TFRecord',\n",
    "    formatOptions={'patchDimensions': [PATCH_SIZE, PATCH_SIZE], 'compressed': True},\n",
    "    maxPixels=1e13\n",
    ")\n",
    "\n",
    "task.start()\n",
    "\n",
    "print(\"\\n============================================================\")\n",
    "print(\"SUCCESS: Full dataset export task has been started.\")\n",
    "print(\"--> Go to the 'Tasks' tab in the GEE Code Editor to monitor progress.\")\n",
    "print(\"--> This is a large task and may take several hours to complete.\")\n",
    "print(f\"--> When finished, files will appear in Google Drive under the '{DRIVE_FOLDER}' folder.\")\n",
    "print(\"============================================================\")"
   ]
  }
 ],
 "metadata": {
  "kernelspec": {
   "display_name": "ee",
   "language": "python",
   "name": "python3"
  },
  "language_info": {
   "codemirror_mode": {
    "name": "ipython",
    "version": 3
   },
   "file_extension": ".py",
   "mimetype": "text/x-python",
   "name": "python",
   "nbconvert_exporter": "python",
   "pygments_lexer": "ipython3",
   "version": "3.13.5"
  }
 },
 "nbformat": 4,
 "nbformat_minor": 5
}
