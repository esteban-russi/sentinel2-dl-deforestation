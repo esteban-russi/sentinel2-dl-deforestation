{
 "cells": [
  {
   "cell_type": "code",
   "execution_count": 2,
   "id": "740860cf",
   "metadata": {},
   "outputs": [],
   "source": [
    "import glob\n",
    "\n",
    "# --- 1. Define Constants ---\n",
    "# These must match what you used during export!\n",
    "BANDS = ['B2', 'B3', 'B4', 'B5', 'B6', 'B7', 'B8', 'B11', 'B12']\n",
    "LABEL_BAND = 'label'\n",
    "ALL_BANDS = BANDS + [LABEL_BAND]\n",
    "PATCH_SIZE = 256\n",
    "NUM_CLASSES = 9 # Number of Dynamic World classes\n",
    "BATCH_SIZE = 32 # Adjust based on your GPU memory\n",
    "BUFFER_SIZE = 2000 # For shuffling\n",
    "DATA_DIR = 'Data\\tfrecords'"
   ]
  },
  {
   "cell_type": "code",
   "execution_count": 3,
   "id": "26504420",
   "metadata": {},
   "outputs": [
    {
     "name": "stdout",
     "output_type": "stream",
     "text": [
      "Found 0 TFRecord files.\n"
     ]
    },
    {
     "ename": "NameError",
     "evalue": "name 'tf' is not defined",
     "output_type": "error",
     "traceback": [
      "\u001b[31m---------------------------------------------------------------------------\u001b[39m",
      "\u001b[31mNameError\u001b[39m                                 Traceback (most recent call last)",
      "\u001b[36mCell\u001b[39m\u001b[36m \u001b[39m\u001b[32mIn[3]\u001b[39m\u001b[32m, line 8\u001b[39m\n\u001b[32m      4\u001b[39m \u001b[38;5;28mprint\u001b[39m(\u001b[33mf\u001b[39m\u001b[33m\"\u001b[39m\u001b[33mFound \u001b[39m\u001b[38;5;132;01m{\u001b[39;00m\u001b[38;5;28mlen\u001b[39m(tfrecord_files)\u001b[38;5;132;01m}\u001b[39;00m\u001b[33m TFRecord files.\u001b[39m\u001b[33m\"\u001b[39m)\n\u001b[32m      6\u001b[39m \u001b[38;5;66;03m# --- 3. Create a TFRecord Dataset Object ---\u001b[39;00m\n\u001b[32m      7\u001b[39m \u001b[38;5;66;03m# This object knows how to read the files efficiently.\u001b[39;00m\n\u001b[32m----> \u001b[39m\u001b[32m8\u001b[39m dataset = \u001b[43mtf\u001b[49m.data.TFRecordDataset(tfrecord_files, compression_type=\u001b[33m'\u001b[39m\u001b[33mGZ\u001b[39m\u001b[33m'\u001b[39m)\n",
      "\u001b[31mNameError\u001b[39m: name 'tf' is not defined"
     ]
    }
   ],
   "source": [
    "\n",
    "# --- 2. Find Your TFRecord Files ---\n",
    "# Use glob to create a list of all your exported files.\n",
    "tfrecord_files = glob.glob(DATA_DIR + 'training_patches*.tfrecord.gz')\n",
    "print(f\"Found {len(tfrecord_files)} TFRecord files.\")\n",
    "\n",
    "# --- 3. Create a TFRecord Dataset Object ---\n",
    "# This object knows how to read the files efficiently.\n",
    "dataset = tf.data.TFRecordDataset(tfrecord_files, compression_type='GZ')"
   ]
  },
  {
   "cell_type": "code",
   "execution_count": null,
   "id": "e559c301",
   "metadata": {},
   "outputs": [],
   "source": [
    "\n",
    "\n",
    "# --- 4. Define a Parsing Function ---\n",
    "# This function tells TensorFlow how to interpret the raw bytes in the TFRecord.\n",
    "def parse_tfrecord(example_proto):\n",
    "    # Define the structure of the data.\n",
    "    feature_description = {\n",
    "        band: tf.io.FixedLenFeature([PATCH_SIZE, PATCH_SIZE], tf.float32) for band in BANDS\n",
    "    }\n",
    "    feature_description[LABEL_BAND] = tf.io.FixedLenFeature([PATCH_SIZE, PATCH_SIZE], tf.int64)\n",
    "\n",
    "    # Parse the input `tf.train.Example` proto using the dictionary above.\n",
    "    example = tf.io.parse_single_example(example_proto, feature_description)\n",
    "    \n",
    "    # Stack the feature bands into a single tensor (the image).\n",
    "    features = [example[band] for band in BANDS]\n",
    "    image_stack = tf.stack(features, axis=-1)\n",
    "    \n",
    "    # Get the label band.\n",
    "    label = example[LABEL_BAND]\n",
    "    \n",
    "    # The label needs to be one-hot encoded for segmentation tasks.\n",
    "    label_one_hot = tf.one_hot(label, depth=NUM_CLASSES)\n",
    "    \n",
    "    return image_stack, label_one_hot"
   ]
  }
 ],
 "metadata": {
  "kernelspec": {
   "display_name": "ee",
   "language": "python",
   "name": "python3"
  },
  "language_info": {
   "codemirror_mode": {
    "name": "ipython",
    "version": 3
   },
   "file_extension": ".py",
   "mimetype": "text/x-python",
   "name": "python",
   "nbconvert_exporter": "python",
   "pygments_lexer": "ipython3",
   "version": "3.13.5"
  }
 },
 "nbformat": 4,
 "nbformat_minor": 5
}
