{
 "cells": [
  {
   "cell_type": "markdown",
   "id": "3446aac5",
   "metadata": {},
   "source": [
    "# Load GEE data and Visualise Region of Interest"
   ]
  },
  {
   "cell_type": "code",
   "execution_count": 1,
   "id": "e4f405c7-2aa2-48ec-ab2c-b4b2c0381898",
   "metadata": {
    "collapsed": true,
    "jupyter": {
     "outputs_hidden": true
    }
   },
   "outputs": [],
   "source": [
    "#%pip install geemap\n",
    "#%pip install rasterio"
   ]
  },
  {
   "cell_type": "code",
   "execution_count": 2,
   "id": "5d84017d-526a-4cc3-8cc9-ed731f7e20a2",
   "metadata": {},
   "outputs": [],
   "source": [
    "import ee\n",
    "import geemap\n",
    "import requests\n",
    "import numpy as np\n",
    "from io import BytesIO\n",
    "from PIL import Image\n",
    "import matplotlib.pyplot as plt"
   ]
  },
  {
   "cell_type": "code",
   "execution_count": 3,
   "id": "a7af4d6c-9d46-4c2d-9ab0-1c303dcc52a4",
   "metadata": {},
   "outputs": [
    {
     "data": {
      "text/html": [
       "\n",
       "            <style>\n",
       "                .geemap-dark {\n",
       "                    --jp-widgets-color: white;\n",
       "                    --jp-widgets-label-color: white;\n",
       "                    --jp-ui-font-color1: white;\n",
       "                    --jp-layout-color2: #454545;\n",
       "                    background-color: #383838;\n",
       "                }\n",
       "\n",
       "                .geemap-dark .jupyter-button {\n",
       "                    --jp-layout-color3: #383838;\n",
       "                }\n",
       "\n",
       "                .geemap-colab {\n",
       "                    background-color: var(--colab-primary-surface-color, white);\n",
       "                }\n",
       "\n",
       "                .geemap-colab .jupyter-button {\n",
       "                    --jp-layout-color3: var(--colab-primary-surface-color, white);\n",
       "                }\n",
       "            </style>\n",
       "            "
      ],
      "text/plain": [
       "<IPython.core.display.HTML object>"
      ]
     },
     "metadata": {},
     "output_type": "display_data"
    }
   ],
   "source": [
    "ee.Authenticate()\n",
    "ee.Initialize(project=\"deforestationsentinel2\")"
   ]
  },
  {
   "cell_type": "code",
   "execution_count": 4,
   "id": "a4ac3c04-a923-4fbe-87d3-e186d9379a2d",
   "metadata": {},
   "outputs": [
    {
     "data": {
      "text/html": [
       "\n",
       "            <style>\n",
       "                .geemap-dark {\n",
       "                    --jp-widgets-color: white;\n",
       "                    --jp-widgets-label-color: white;\n",
       "                    --jp-ui-font-color1: white;\n",
       "                    --jp-layout-color2: #454545;\n",
       "                    background-color: #383838;\n",
       "                }\n",
       "\n",
       "                .geemap-dark .jupyter-button {\n",
       "                    --jp-layout-color3: #383838;\n",
       "                }\n",
       "\n",
       "                .geemap-colab {\n",
       "                    background-color: var(--colab-primary-surface-color, white);\n",
       "                }\n",
       "\n",
       "                .geemap-colab .jupyter-button {\n",
       "                    --jp-layout-color3: var(--colab-primary-surface-color, white);\n",
       "                }\n",
       "            </style>\n",
       "            "
      ],
      "text/plain": [
       "<IPython.core.display.HTML object>"
      ]
     },
     "metadata": {},
     "output_type": "display_data"
    }
   ],
   "source": [
    "# Region of interest: San Vicente del Caguán and La Macarena municipalities\n",
    "roi = ee.Geometry.BBox(-74.88851, 1.722, -73.656, 2.712)\n",
    "\n",
    "# Date range for the analysis\n",
    "start_date = '2022-01-01'\n",
    "end_date = '2022-12-31'\n"
   ]
  },
  {
   "cell_type": "code",
   "execution_count": 5,
   "id": "1f23fb5c-e99a-44d7-9f8f-25178cbc8469",
   "metadata": {},
   "outputs": [
    {
     "data": {
      "text/html": [
       "\n",
       "            <style>\n",
       "                .geemap-dark {\n",
       "                    --jp-widgets-color: white;\n",
       "                    --jp-widgets-label-color: white;\n",
       "                    --jp-ui-font-color1: white;\n",
       "                    --jp-layout-color2: #454545;\n",
       "                    background-color: #383838;\n",
       "                }\n",
       "\n",
       "                .geemap-dark .jupyter-button {\n",
       "                    --jp-layout-color3: #383838;\n",
       "                }\n",
       "\n",
       "                .geemap-colab {\n",
       "                    background-color: var(--colab-primary-surface-color, white);\n",
       "                }\n",
       "\n",
       "                .geemap-colab .jupyter-button {\n",
       "                    --jp-layout-color3: var(--colab-primary-surface-color, white);\n",
       "                }\n",
       "            </style>\n",
       "            "
      ],
      "text/plain": [
       "<IPython.core.display.HTML object>"
      ]
     },
     "metadata": {},
     "output_type": "display_data"
    }
   ],
   "source": [
    "# ------------------------------\n",
    "# 1. Sentinel-2:\n",
    "# ------------------------------\n",
    "s2_bands = ['B2', 'B3', 'B4', 'B5', 'B6', 'B7', 'B8', 'B11', 'B12']\n",
    "sentinel = ee.ImageCollection('COPERNICUS/S2_SR_HARMONIZED') \\\n",
    "    .filterBounds(roi) \\\n",
    "    .filter(ee.Filter.lt('CLOUDY_PIXEL_PERCENTAGE', 20)) \\\n",
    "    .filterDate(start_date, end_date) \\\n",
    "    .select(s2_bands)  # Select only the bands of interest\n",
    "\n",
    "\n",
    "# ------------------------------\n",
    "# 2. Dynamic World:\n",
    "# ------------------------------\n",
    "\n",
    "dynamic = ee.ImageCollection('GOOGLE/DYNAMICWORLD/V1') \\\n",
    "    .filterBounds(roi) \\\n",
    "    .filterDate(start_date, end_date)  \\\n",
    "    .select('label')  # Keep only the class label\n"
   ]
  },
  {
   "cell_type": "code",
   "execution_count": 6,
   "id": "3ed44404",
   "metadata": {},
   "outputs": [
    {
     "data": {
      "text/html": [
       "\n",
       "            <style>\n",
       "                .geemap-dark {\n",
       "                    --jp-widgets-color: white;\n",
       "                    --jp-widgets-label-color: white;\n",
       "                    --jp-ui-font-color1: white;\n",
       "                    --jp-layout-color2: #454545;\n",
       "                    background-color: #383838;\n",
       "                }\n",
       "\n",
       "                .geemap-dark .jupyter-button {\n",
       "                    --jp-layout-color3: #383838;\n",
       "                }\n",
       "\n",
       "                .geemap-colab {\n",
       "                    background-color: var(--colab-primary-surface-color, white);\n",
       "                }\n",
       "\n",
       "                .geemap-colab .jupyter-button {\n",
       "                    --jp-layout-color3: var(--colab-primary-surface-color, white);\n",
       "                }\n",
       "            </style>\n",
       "            "
      ],
      "text/plain": [
       "<IPython.core.display.HTML object>"
      ]
     },
     "metadata": {},
     "output_type": "display_data"
    },
    {
     "name": "stdout",
     "output_type": "stream",
     "text": [
      "Found 101 images in COPERNICUS/S2_SR_HARMONIZED.\n",
      "General info about the first image:\n",
      "  ID: COPERNICUS/S2_SR_HARMONIZED/20220103T152639_20220103T153113_T18NWG\n",
      "  Bands: ['B2', 'B3', 'B4', 'B5', 'B6', 'B7', 'B8', 'B11', 'B12']\n",
      "  Properties: ['DATATAKE_IDENTIFIER', 'AOT_RETRIEVAL_ACCURACY', 'SPACECRAFT_NAME', 'SATURATED_DEFECTIVE_PIXEL_PERCENTAGE', 'MEAN_INCIDENCE_AZIMUTH_ANGLE_B8A', 'CLOUD_SHADOW_PERCENTAGE', 'MEAN_SOLAR_AZIMUTH_ANGLE', 'system:footprint'] ...\n",
      "  Date: 1641223958801\n",
      "\n",
      "Found 192 images in GOOGLE/DYNAMICWORLD/V1.\n",
      "General info about the first image:\n",
      "  ID: GOOGLE/DYNAMICWORLD/V1/20220103T152639_20220103T153113_T18NWG\n",
      "  Bands: ['label']\n",
      "  Properties: ['system:time_start', 'dynamicworld_algorithm_version', 'qa_algorithm_version', 'system:footprint', 'system:asset_size', 'system:index'] ...\n",
      "  Date: 1641223958801\n",
      "\n"
     ]
    }
   ],
   "source": [
    "def collection_info(collection):\n",
    "    collection_size = collection.size().getInfo()\n",
    "    first = collection.first()\n",
    "    collection_id = collection.get('system:id').getInfo() or \"Unnamed Collection\"\n",
    "    if collection_size == 0:\n",
    "        print(\"No images found for the specified criteria. Please adjust the date range or location.\")\n",
    "        return None\n",
    "    else:\n",
    "        print(f\"Found {collection_size} images in {collection_id}.\")\n",
    "        # Get info from the first image\n",
    "        first_info = first.getInfo()\n",
    "        print(\"General info about the first image:\")\n",
    "        print(f\"  ID: {first_info.get('id', 'N/A')}\")\n",
    "        print(f\"  Bands: {[b['id'] for b in first_info['bands']]}\")\n",
    "        print(f\"  Properties: {list(first_info['properties'].keys())[:8]} ...\")\n",
    "        print(f\"  Date: {first_info['properties'].get('system:time_start', 'N/A')}\")\n",
    "        print(\"\")\n",
    "\n",
    "collection_info(sentinel)\n",
    "collection_info(dynamic)"
   ]
  },
  {
   "cell_type": "code",
   "execution_count": 7,
   "id": "14b518ec",
   "metadata": {},
   "outputs": [
    {
     "data": {
      "text/html": [
       "\n",
       "            <style>\n",
       "                .geemap-dark {\n",
       "                    --jp-widgets-color: white;\n",
       "                    --jp-widgets-label-color: white;\n",
       "                    --jp-ui-font-color1: white;\n",
       "                    --jp-layout-color2: #454545;\n",
       "                    background-color: #383838;\n",
       "                }\n",
       "\n",
       "                .geemap-dark .jupyter-button {\n",
       "                    --jp-layout-color3: #383838;\n",
       "                }\n",
       "\n",
       "                .geemap-colab {\n",
       "                    background-color: var(--colab-primary-surface-color, white);\n",
       "                }\n",
       "\n",
       "                .geemap-colab .jupyter-button {\n",
       "                    --jp-layout-color3: var(--colab-primary-surface-color, white);\n",
       "                }\n",
       "            </style>\n",
       "            "
      ],
      "text/plain": [
       "<IPython.core.display.HTML object>"
      ]
     },
     "metadata": {},
     "output_type": "display_data"
    }
   ],
   "source": [
    "dw_class_names = [\n",
    "    'water',\n",
    "    'trees',\n",
    "    'grass',\n",
    "    'flooded_vegetation',\n",
    "    'crops',\n",
    "    'shrub_and_scrub',\n",
    "    'built',\n",
    "    'bare',\n",
    "    'snow_and_ice',\n",
    "]\n",
    "\n",
    "VIS_PALETTE = [\n",
    "    '419bdf',\n",
    "    '397d49',\n",
    "    '88b053',\n",
    "    '7a87c6',\n",
    "    'e49635',\n",
    "    'dfc35a',\n",
    "    'c4281b',\n",
    "    'a59b8f',\n",
    "    'b39fe1',\n",
    "]"
   ]
  },
  {
   "cell_type": "code",
   "execution_count": 8,
   "id": "4767f4c5",
   "metadata": {},
   "outputs": [
    {
     "data": {
      "text/html": [
       "\n",
       "            <style>\n",
       "                .geemap-dark {\n",
       "                    --jp-widgets-color: white;\n",
       "                    --jp-widgets-label-color: white;\n",
       "                    --jp-ui-font-color1: white;\n",
       "                    --jp-layout-color2: #454545;\n",
       "                    background-color: #383838;\n",
       "                }\n",
       "\n",
       "                .geemap-dark .jupyter-button {\n",
       "                    --jp-layout-color3: #383838;\n",
       "                }\n",
       "\n",
       "                .geemap-colab {\n",
       "                    background-color: var(--colab-primary-surface-color, white);\n",
       "                }\n",
       "\n",
       "                .geemap-colab .jupyter-button {\n",
       "                    --jp-layout-color3: var(--colab-primary-surface-color, white);\n",
       "                }\n",
       "            </style>\n",
       "            "
      ],
      "text/plain": [
       "<IPython.core.display.HTML object>"
      ]
     },
     "metadata": {},
     "output_type": "display_data"
    },
    {
     "name": "stdout",
     "output_type": "stream",
     "text": [
      "ROI Analysis Scale: 10 meters/pixel\n",
      "\n",
      "Dimensions in Meters:\n",
      "  - Width:  137,140.84 meters\n",
      "  - Height: 109,468.98 meters\n",
      "\n",
      "Dimensions in Pixels (at the specified scale):\n",
      "  - Width:  13,714 pixels\n",
      "  - Height: 10,947 pixels\n"
     ]
    }
   ],
   "source": [
    "# =================================================================\n",
    "\n",
    "# Define the scale (resolution in meters/pixel).\n",
    "# For Sentinel-2 true-color bands (B2, B3, B4), the native resolution is 10 meters.\n",
    "scale = 10\n",
    "\n",
    "# Get the bounding box of our region.\n",
    "info = roi.getInfo()\n",
    "bounds = roi.bounds()\n",
    "\n",
    "# The coordinates are returned as a list of lists of [lon, lat] pairs.\n",
    "# For a rectangle, it's [[p1, p2, p3, p4, p1]]. We need the corners.\n",
    "coords = ee.List(bounds.coordinates().get(0))\n",
    "\n",
    "# Get the lower-left and upper-right corners.\n",
    "ll = ee.Geometry.Point(coords.get(0)) # Lower-Left\n",
    "lr = ee.Geometry.Point(coords.get(1)) # Lower-Right\n",
    "ul = ee.Geometry.Point(coords.get(3)) # Upper-Left\n",
    "\n",
    "# Calculate width and height in meters. These are server-side objects.\n",
    "width_m_server = ll.distance(lr)\n",
    "height_m_server = ll.distance(ul)\n",
    "\n",
    "# Get the numbers from the server to the client.\n",
    "width_m = width_m_server.getInfo()\n",
    "height_m = height_m_server.getInfo()\n",
    "\n",
    "# Calculate pixel dimensions.\n",
    "width_pixels = round(width_m / scale)\n",
    "height_pixels = round(height_m / scale)\n",
    "\n",
    "print(f\"ROI Analysis Scale: {scale} meters/pixel\")\n",
    "print(\"\\nDimensions in Meters:\")\n",
    "# Use f-string formatting to add commas for readability\n",
    "print(f\"  - Width:  {width_m:,.2f} meters\")\n",
    "print(f\"  - Height: {height_m:,.2f} meters\")\n",
    "\n",
    "print(\"\\nDimensions in Pixels (at the specified scale):\")\n",
    "print(f\"  - Width:  {width_pixels:,} pixels\")\n",
    "print(f\"  - Height: {height_pixels:,} pixels\")"
   ]
  },
  {
   "cell_type": "code",
   "execution_count": 9,
   "id": "add2717e",
   "metadata": {},
   "outputs": [
    {
     "data": {
      "text/html": [
       "\n",
       "            <style>\n",
       "                .geemap-dark {\n",
       "                    --jp-widgets-color: white;\n",
       "                    --jp-widgets-label-color: white;\n",
       "                    --jp-ui-font-color1: white;\n",
       "                    --jp-layout-color2: #454545;\n",
       "                    background-color: #383838;\n",
       "                }\n",
       "\n",
       "                .geemap-dark .jupyter-button {\n",
       "                    --jp-layout-color3: #383838;\n",
       "                }\n",
       "\n",
       "                .geemap-colab {\n",
       "                    background-color: var(--colab-primary-surface-color, white);\n",
       "                }\n",
       "\n",
       "                .geemap-colab .jupyter-button {\n",
       "                    --jp-layout-color3: var(--colab-primary-surface-color, white);\n",
       "                }\n",
       "            </style>\n",
       "            "
      ],
      "text/plain": [
       "<IPython.core.display.HTML object>"
      ]
     },
     "metadata": {},
     "output_type": "display_data"
    },
    {
     "data": {
      "application/vnd.jupyter.widget-view+json": {
       "model_id": "780a8aab22314798b30dd8ab206a9824",
       "version_major": 2,
       "version_minor": 0
      },
      "text/plain": [
       "Map(center=[2.2169875174041462, -74.2722550000001], controls=(WidgetControl(options=['position', 'transparent_…"
      ]
     },
     "metadata": {},
     "output_type": "display_data"
    }
   ],
   "source": [
    "# =================================================================\n",
    "# Visualize the Image\n",
    "# =================================================================\n",
    "vis_params_true_color = {\n",
    "    'bands': ['B4', 'B3', 'B2'],\n",
    "    'min': 0,\n",
    "    'max': 3000,\n",
    "    'gamma': 1.4,\n",
    "}\n",
    "\n",
    "\n",
    "Map = geemap.Map()\n",
    "Map.centerObject(roi, 10)\n",
    "\n",
    "# Add Dynamic World true color median composite\n",
    "median_dynamic = dynamic.median()\n",
    "Map.addLayer(median_dynamic, {\n",
    "    'min': 0, 'max': 8, 'palette': [\n",
    "        \"#419BDF\", \"#397D49\", \"#88B053\", \"#7A87C6\", \"#E49635\", \"#DFC35A\", \"#C4281B\", \"#A59B8F\", \"#B39FE1\"\n",
    "    ]\n",
    "}, 'Dynamic World Mean Label')\n",
    "\n",
    "# Add Sentinel-2 true color median composite\n",
    "median_sentinel_b2 = sentinel.select(['B4', 'B3', 'B2']).median()\n",
    "Map.addLayer(median_sentinel_b2, vis_params_true_color, 'Sentinel-2 (B2) Mean')\n",
    "\n",
    "# Add the ROI boundary to the map\n",
    "Map.addLayer(\n",
    "    roi,\n",
    "    {'color': 'yellow', 'fillColor': '00000000'}, # Style as a yellow outline\n",
    "    'ROI Boundary'\n",
    ")\n",
    "\n",
    "Map.addLayerControl()\n",
    "\n",
    "display(Map)"
   ]
  }
 ],
 "metadata": {
  "kernelspec": {
   "display_name": "ee",
   "language": "python",
   "name": "python3"
  },
  "language_info": {
   "codemirror_mode": {
    "name": "ipython",
    "version": 3
   },
   "file_extension": ".py",
   "mimetype": "text/x-python",
   "name": "python",
   "nbconvert_exporter": "python",
   "pygments_lexer": "ipython3",
   "version": "3.13.5"
  }
 },
 "nbformat": 4,
 "nbformat_minor": 5
}
